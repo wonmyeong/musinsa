{
 "cells": [
  {
   "cell_type": "code",
   "execution_count": 6,
   "id": "fefceab4",
   "metadata": {},
   "outputs": [
    {
     "data": {
      "text/plain": [
       "15658"
      ]
     },
     "execution_count": 6,
     "metadata": {},
     "output_type": "execute_result"
    }
   ],
   "source": [
    "import hangul_font\n",
    "import pandas as pd\n",
    "import numpy as np\n",
    "import matplotlib.pyplot as plt\n",
    "import pandas as pd\n",
    "import openpyxl\n",
    "import os\n",
    "import time\n",
    "import math\n",
    "import webbrowser\n",
    "import numpy as np\n",
    "import re\n",
    "import sys\n",
    "import csv\n",
    "\n",
    "df = pd.read_csv('data_visual.txt2023-1-7-8해시태그 by 스타일.csv',encoding='cp949')\n",
    "df.drop('Unnamed: 0',axis='columns',inplace =True)\n",
    "df.rename(columns = {'cordi':'코디','0':'날짜','1':'조회수','2':'댓글'},inplace=True)\n",
    "df.drop(columns=['댓글','날짜','코디','조회수'], inplace=True)\n",
    "list1= df.count().tolist()\n",
    "array = np.array(list1)\n",
    "array.sum()\n",
    "# df.values.tolist()"
   ]
  },
  {
   "cell_type": "code",
   "execution_count": 7,
   "id": "9a55e7ca",
   "metadata": {},
   "outputs": [
    {
     "name": "stdout",
     "output_type": "stream",
     "text": [
      "3.9.13\n"
     ]
    }
   ],
   "source": [
    "from platform import python_version\n",
    "\n",
    "print(python_version())"
   ]
  },
  {
   "cell_type": "code",
   "execution_count": 8,
   "id": "c66a7a82",
   "metadata": {},
   "outputs": [
    {
     "name": "stdout",
     "output_type": "stream",
     "text": [
      "Selected Jupyter core packages...\n",
      "IPython          : 7.31.1\n",
      "ipykernel        : 6.15.2\n",
      "ipywidgets       : 7.6.5\n",
      "jupyter_client   : 7.3.4\n",
      "jupyter_core     : 4.11.1\n",
      "jupyter_server   : 1.18.1\n",
      "jupyterlab       : 3.4.4\n",
      "nbclient         : 0.5.13\n",
      "nbconvert        : 6.4.4\n",
      "nbformat         : 5.5.0\n",
      "notebook         : 6.4.12\n",
      "qtconsole        : 5.2.2\n",
      "traitlets        : 5.1.1\n"
     ]
    }
   ],
   "source": [
    "!jupyter --version"
   ]
  },
  {
   "cell_type": "code",
   "execution_count": null,
   "id": "05efd410",
   "metadata": {},
   "outputs": [],
   "source": []
  }
 ],
 "metadata": {
  "kernelspec": {
   "display_name": "Python 3 (ipykernel)",
   "language": "python",
   "name": "python3"
  },
  "language_info": {
   "codemirror_mode": {
    "name": "ipython",
    "version": 3
   },
   "file_extension": ".py",
   "mimetype": "text/x-python",
   "name": "python",
   "nbconvert_exporter": "python",
   "pygments_lexer": "ipython3",
   "version": "3.9.13"
  }
 },
 "nbformat": 4,
 "nbformat_minor": 5
}
